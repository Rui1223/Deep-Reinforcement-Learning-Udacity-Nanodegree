{
 "cells": [
  {
   "cell_type": "markdown",
   "id": "019d068f",
   "metadata": {},
   "source": [
    "# Project 2: Collaboration and Competition"
   ]
  },
  {
   "cell_type": "markdown",
   "id": "f316102d",
   "metadata": {},
   "source": [
    "### Project description\n",
    "The folder contains the codes and a report for project 3 of the Deep Reinforcement Learning nanodegree. The project is based on a Unity ML-Agents Tennis environment, where two agents control rackets to bounce a ball over a net. If an agent hits the ball over the net, it receives a reward of +0.1. If an agent lets a ball hit the ground or hits the ball out of bounds, it receives a reward of -0.01. Thus, the goal of each agent is to keep the ball in play.\n",
    "\n",
    "<img src=\"tennis_environment.png\" />\n",
    "\n",
    "The observation space consists of 8 variables corresponding to the position and velocity of the ball and racket. Each agent receives its own, local observation. Two continuous actions are available, corresponding to movement toward (or away from) the net, and jumping.\n",
    "\n",
    "For this project, the task is episodic, and in order to solve the environment, your agents must get an average score of +0.5 (over 100 consecutive episodes, after taking the maximum over both agents). Specifically,\n",
    "- After each episode, we add up the rewards that each agent received (without discounting), to get a score for each agent. This yields 2 (potentially different) scores. We then take the maximum of these 2 scores.\n",
    "- This yields a single **score** for each episode.\n",
    "\n",
    "The environment is considered solved, when the average (over 100 episodes) of those **scores** is at least +0.5."
   ]
  },
  {
   "cell_type": "markdown",
   "id": "be13a74d",
   "metadata": {},
   "source": [
    "### Methodology\n",
    "The method I choose is the **Multi-Agent Deep Deterministic Policy Gradient (MADDPG)** algortithm, a multi-agent version of DDPG - an actor-critic algorithm for learning continous actions. The pseudocode is demonstrated as follows from the [paper](https://arxiv.org/pdf/1706.02275.pdf)\n",
    "\n",
    "<img src=\"pseudocode_maddpg.png\" />\n",
    "\n",
    "Each agent has its own actor and critic network (local and target), and they share the same Experience Replay Buffer. Slow transition from local network to target network has been used.\n",
    "- For updating the critic, it is similar to DQN except that it uses target actor network to produce the next action in calculating the Q_target ($y_i$).\n",
    "- For updating the actor, it performs gradient ascent on the sampled policy gradient."
   ]
  },
  {
   "cell_type": "markdown",
   "id": "3bd861ca",
   "metadata": {},
   "source": [
    "### Implementation\n",
    "The codes contain 4 main files:\n",
    "- `model.py`: defines and specifies the Actor and Critic network. (This part builds on top of the [Udacity repository](https://github.com/udacity/deep-reinforcement-learning/tree/master/ddpg-bipedal))\n",
    "- `ddpg_agent.py`: implements the DDPG training process, as well as defining the action noise. (This part builds on top of the [Udacity repository](https://github.com/udacity/deep-reinforcement-learning/tree/master/ddpg-bipedal))\n",
    "- `ddpg_multiagents.py`: implements multi-agent DDPG training process and specifies the usage of the shared experience replay buffer.\n",
    "- `Tennis.ipynb`: the notebook to train the two tennis agents. Run cell by cell.\n",
    "\n",
    "#### Network architecture\n",
    "- Actor Network\n",
    "```\n",
    "input layer (8 units, state_space_size)\n",
    "hidden layer 1 (fully connected 256 units, batch_norm, relu)\n",
    "hidden layer 2 (fully connected 128 units, batch_norm, relu)\n",
    "output layer (2 units, tanh, action_space_size)\n",
    "```\n",
    "- Critic Network\n",
    "```\n",
    "input layer (8 units, state_space_size)\n",
    "hidden layer 1 (fully connected 256 units, batch_norm, relu)\n",
    "hidden layer 2 (fully connected 128 units, batch_norm, relu)\n",
    "output layer (1 units, Q_value)\n",
    "```\n",
    "\n",
    "#### Hyperparameters for training\n",
    "```\n",
    "BUFFER_SIZE = int(1e6)  # replay buffer size\n",
    "BATCH_SIZE = 256        # minibatch size\n",
    "GAMMA = 0.99            # discount factor\n",
    "TAU = 1e-2              # for soft update of target parameters\n",
    "LR_ACTOR = 1e-3         # learning rate of the actor \n",
    "LR_CRITIC = 1e-3        # learning rate of the critic\n",
    "WEIGHT_DECAY = 0        # L2 weight decay\n",
    "EPSILON_DECAY = 0.99    # decay rate\n",
    "LEARNING_TIMES = 3      # the number of times for learning at a single phase.\n",
    "```"
   ]
  },
  {
   "cell_type": "markdown",
   "id": "ece21730",
   "metadata": {},
   "source": [
    "### Results and key notes\n",
    "The statistics for the training process and the plot of the experimental results are demonstrated below.\n",
    "```\n",
    "Episode 0 \t Average Score: 0.00\n",
    "Episode 50 \t Average Score: 0.01\n",
    "Episode 100 \t Average Score: 0.04\n",
    "Episode 150 \t Average Score: 0.08\n",
    "Episode 200 \t Average Score: 0.13\n",
    "Episode 250 \t Average Score: 0.21\n",
    "Episode 300 \t Average Score: 0.37\n",
    "Episode 324 \t Average Score: 0.52\n",
    "Environment solved in 224 episodes!\tAverage Score: 0.52\n",
    "```\n",
    "<img src=\"plot.png\" />\n",
    "\n",
    "The training process goes good. In the image above, it is specified that environment is solved in 224 episode.\n",
    "The actual episode at which environment is solved (+0.5 over last 100 episodes) is 324."
   ]
  },
  {
   "cell_type": "markdown",
   "id": "b1f015f3",
   "metadata": {},
   "source": [
    "### Future Work\n",
    "- One thing to try on top of the current work is Prioritized [Experience Replay](https://arxiv.org/pdf/1511.05952.pdf), which could improve the multi-agent performance as it replays important transitions more frequently.\n",
    "- Can adapt the current work to more agents (currently it is used to work on games where there are two players. But for many games, there are multiple players)\n",
    "- Currently the two agents are trained in the same way. It is interesting to train agents in a different way (e.g., a little bit different network architecture, different hyperparameters, different training process) and see if one agent wins more than the other."
   ]
  }
 ],
 "metadata": {
  "kernelspec": {
   "display_name": "Python 3",
   "language": "python",
   "name": "python3"
  },
  "language_info": {
   "codemirror_mode": {
    "name": "ipython",
    "version": 3
   },
   "file_extension": ".py",
   "mimetype": "text/x-python",
   "name": "python",
   "nbconvert_exporter": "python",
   "pygments_lexer": "ipython3",
   "version": "3.6.9"
  }
 },
 "nbformat": 4,
 "nbformat_minor": 5
}
